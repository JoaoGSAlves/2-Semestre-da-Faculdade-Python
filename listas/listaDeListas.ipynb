{
 "cells": [
  {
   "cell_type": "code",
   "execution_count": null,
   "metadata": {},
   "outputs": [],
   "source": [
    "#Questão 1\n",
    "\n",
    "lista = [1,2,3,4,5]\n",
    "\n",
    "class listas ():\n",
    "    def __init__(self,lista):\n",
    "        self.lista = lista\n",
    "\n",
    "    def getListas (self):\n",
    "        return self.lista\n",
    "\n",
    "l = listas(lista)\n",
    "print(vars(l))"
   ]
  },
  {
   "cell_type": "code",
   "execution_count": null,
   "metadata": {},
   "outputs": [],
   "source": []
  },
  {
   "cell_type": "code",
   "execution_count": null,
   "metadata": {},
   "outputs": [],
   "source": [
    "# Questão 2\n",
    "\n",
    "numbers = list(range(10,-1,-1))\n",
    "print(numbers)"
   ]
  },
  {
   "cell_type": "code",
   "execution_count": null,
   "metadata": {},
   "outputs": [],
   "source": [
    "# Questão 3\n",
    "\n",
    "notas = [8.0,4.6,7.8,9.0]\n",
    "\n",
    "class listas ():\n",
    "    def __init__(self,lista):\n",
    "        self.lista = lista\n",
    "    \n",
    "    def mediaNotas (self):\n",
    "        return print('A soma media das notas e :', sum(self.lista)/4)\n",
    "\n",
    "l = listas(notas)\n",
    "l.mediaNotas()\n"
   ]
  },
  {
   "cell_type": "code",
   "execution_count": null,
   "metadata": {},
   "outputs": [],
   "source": [
    "# Questão 4\n",
    "\n",
    "vetor = ['a','f','g','b','d','e','j','i','u','l']\n",
    "\n",
    "class vogais():\n",
    "    def __init__(self,lista):\n",
    "        self.lista = lista\n",
    "    \n",
    "    def getConsoantes (self):\n",
    "        soma = 0\n",
    "        consoantes = 'bcdfghjklmnpqrstvwxyz'\n",
    "        for i in self.lista:\n",
    "            if i in consoantes:\n",
    "                soma += 1\n",
    "        return soma  \n",
    "\n",
    "v = vogais(vetor)\n",
    "print(vars(v))\n",
    "print(v.getConsoantes())\n"
   ]
  },
  {
   "cell_type": "code",
   "execution_count": null,
   "metadata": {},
   "outputs": [],
   "source": [
    "#Questão 5\n",
    "\n",
    "numbers = []\n",
    "pares = []\n",
    "impares = []\n",
    "\n",
    "for i in range(21):\n",
    "    numeros = int(input('Digite 20 numeros inteiros:' ))\n",
    "    numbers.append(numeros)\n",
    "\n",
    "    if numeros % 2 == 0:\n",
    "        pares.append(numeros)\n",
    "    else:\n",
    "        impares.append(numeros)\n",
    "    \n",
    "print(numbers)\n",
    "print(pares)\n",
    "print(impares)"
   ]
  },
  {
   "cell_type": "code",
   "execution_count": null,
   "metadata": {},
   "outputs": [],
   "source": [
    "# Questão 6\n",
    "\n",
    "media = []\n",
    "soma = 0\n",
    "\n",
    "for i in range (10):\n",
    "    print('\\n+','-+'*30,'+\\n')\n",
    "    nota1 = float(input('Digite o valor de sua Primeira Avaliação:'))\n",
    "    nota2 = float(input('Digite o valor de sua Segunda Avaliação:'))\n",
    "    nota3 = float(input('Digite o valor de sua Terceira Avaliação:'))\n",
    "    nota4 = float(input('Digite o valor de sua Quarta Avaliação:'))\n",
    "    medias = (nota1+nota2+nota3+nota4)/4\n",
    "\n",
    "    if medias >= 7.0:\n",
    "        media.append(medias)\n",
    "        soma += 1\n",
    "    else: \n",
    "        print('')\n",
    "        \n",
    "print('As notas acima da média foram:', media)\n",
    "print('Quantidade de notas acima da media e: ', soma)\n"
   ]
  },
  {
   "cell_type": "code",
   "execution_count": null,
   "metadata": {},
   "outputs": [],
   "source": [
    "# Questao 7\n",
    "\n",
    "lista = []\n",
    "mult = 1\n",
    "\n",
    "for i in range(6):\n",
    "    numeros = int(input('Digite 5 numeros :'))\n",
    "\n",
    "    if numeros >= 0:\n",
    "        lista.append(numeros)\n",
    "        mult = mult * numeros\n",
    "\n",
    "print(sum(lista))\n",
    "print(mult)\n",
    "print(lista)"
   ]
  },
  {
   "cell_type": "code",
   "execution_count": null,
   "metadata": {},
   "outputs": [],
   "source": [
    "# Questao 8\n",
    "\n",
    "altura = []\n",
    "idade = []\n",
    "\n",
    "for i in range (5):\n",
    "    a = int(input('Digite a sua idade: '))\n",
    "    b = float(input('Digite a sua altura: '))\n",
    "    altura.append(b)\n",
    "    idade.append(a)\n",
    "\n",
    "print(altura[::-1])\n",
    "print(idade[::-1])"
   ]
  },
  {
   "cell_type": "code",
   "execution_count": null,
   "metadata": {},
   "outputs": [],
   "source": [
    "# Questao 9\n",
    "\n",
    "lista = []\n",
    "quad = 1\n",
    "somaQuad = 0\n",
    "for i in range (10):\n",
    "    numeros = int(input('digita uns numeros ai: '))\n",
    "    lista.append(numeros)\n",
    "    if numeros > 0:\n",
    "        quad = numeros*numeros\n",
    "        somaQuad += quad\n",
    "\n",
    "print(lista)\n",
    "print(somaQuad)"
   ]
  },
  {
   "cell_type": "code",
   "execution_count": null,
   "metadata": {},
   "outputs": [],
   "source": [
    "# Questao 10\n",
    "\n",
    "lista1 = []\n",
    "lista2 = []\n",
    "lista3 = []\n",
    "\n",
    "for i in range (10):\n",
    "    a = int(input('Digite os valores do vetor 1: '))\n",
    "    lista1.append(a)\n",
    "    lista3.append(a)\n",
    "    b = int(input('Digite os valores do vetor 2: '))\n",
    "    lista2.append(b)\n",
    "    lista3.append(b)\n",
    "  \n",
    "print(lista1)\n",
    "print(lista2)\n",
    "print(lista3)"
   ]
  },
  {
   "cell_type": "code",
   "execution_count": null,
   "metadata": {},
   "outputs": [],
   "source": [
    "# Questao 11\n",
    "\n",
    "lista1 = []\n",
    "lista2 = []\n",
    "lista3 = []\n",
    "lista4 = []\n",
    "\n",
    "for i in range (5):\n",
    "    a = int(input('Digite os valores do vetor 1: '))\n",
    "    lista1.append(a)\n",
    "    lista4.append(a)\n",
    "    b = int(input('Digite os valores do vetor 2: '))\n",
    "    lista2.append(b)\n",
    "    lista4.append(b)\n",
    "    c = int(input('Digite os valores do vetor 3: '))\n",
    "    lista3.append(c)\n",
    "    lista4.append(c)\n",
    "\n",
    "print(lista1)\n",
    "print(lista2)\n",
    "print(lista3)\n",
    "print(lista4)"
   ]
  },
  {
   "cell_type": "code",
   "execution_count": 30,
   "metadata": {},
   "outputs": [
    {
     "name": "stdout",
     "output_type": "stream",
     "text": [
      "aaaaaa\n",
      "aaaaaa\n",
      "aaaaaa\n",
      "fsdfas\n",
      "fsdfas\n"
     ]
    }
   ],
   "source": [
    "# Questão 12\n",
    "\n",
    "altura = []\n",
    "idade = []\n",
    "\n",
    "for i in range(5):\n",
    "    a = float(input(\"Digite o valor da altura dos alunos:\"))\n",
    "    i = float(input(\"Digite o valor da idade dos alunos:\"))\n",
    "    media = len(altura)/a\n",
    "    altura.append(a)\n",
    "    idade.append(i)\n",
    "    if i > 13 and a > media:\n",
    "        print(\"aaaaaa\")\n",
    "    else:\n",
    "        print(\"fsdfas\")"
   ]
  }
 ],
 "metadata": {
  "kernelspec": {
   "display_name": "Python 3.10.3 64-bit (system)",
   "language": "python",
   "name": "python3"
  },
  "language_info": {
   "codemirror_mode": {
    "name": "ipython",
    "version": 3
   },
   "file_extension": ".py",
   "mimetype": "text/x-python",
   "name": "python",
   "nbconvert_exporter": "python",
   "pygments_lexer": "ipython3",
   "version": "3.10.3"
  },
  "orig_nbformat": 4,
  "vscode": {
   "interpreter": {
    "hash": "02e17b89f339ee76ff190cc42d9a5ce09190089d8d70b6d045aaf81c6763147f"
   }
  }
 },
 "nbformat": 4,
 "nbformat_minor": 2
}
